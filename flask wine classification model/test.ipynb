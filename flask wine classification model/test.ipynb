{
 "cells": [
  {
   "cell_type": "code",
   "execution_count": 1,
   "id": "b1f6a365",
   "metadata": {},
   "outputs": [
    {
     "name": "stdout",
     "output_type": "stream",
     "text": [
      "   Unnamed: 0  alcohol  malic_acid   ash  alcalinity_of_ash  magnesium  \\\n",
      "0           0    14.23        1.71  2.43               15.6      127.0   \n",
      "1           1    13.20        1.78  2.14               11.2      100.0   \n",
      "2           2    13.16        2.36  2.67               18.6      101.0   \n",
      "3           3    14.37        1.95  2.50               16.8      113.0   \n",
      "4           4    13.24        2.59  2.87               21.0      118.0   \n",
      "\n",
      "   total_phenols  flavanoids  nonflavanoid_phenols  proanthocyanins  \\\n",
      "0           2.80        3.06                  0.28             2.29   \n",
      "1           2.65        2.76                  0.26             1.28   \n",
      "2           2.80        3.24                  0.30             2.81   \n",
      "3           3.85        3.49                  0.24             2.18   \n",
      "4           2.80        2.69                  0.39             1.82   \n",
      "\n",
      "   color_intensity   hue  od280/od315_of_diluted_wines  proline  cultivar  \n",
      "0             5.64  1.04                          3.92   1065.0         0  \n",
      "1             4.38  1.05                          3.40   1050.0         0  \n",
      "2             5.68  1.03                          3.17   1185.0         0  \n",
      "3             7.80  0.86                          3.45   1480.0         0  \n",
      "4             4.32  1.04                          2.93    735.0         0  \n"
     ]
    }
   ],
   "source": [
    "import pandas as pd\n",
    "df_test = pd.read_csv('wine.csv')\n",
    "print(df_test.head())"
   ]
  },
  {
   "cell_type": "code",
   "execution_count": null,
   "id": "cc0aaccd",
   "metadata": {},
   "outputs": [],
   "source": []
  }
 ],
 "metadata": {
  "kernelspec": {
   "display_name": "base",
   "language": "python",
   "name": "python3"
  },
  "language_info": {
   "codemirror_mode": {
    "name": "ipython",
    "version": 3
   },
   "file_extension": ".py",
   "mimetype": "text/x-python",
   "name": "python",
   "nbconvert_exporter": "python",
   "pygments_lexer": "ipython3",
   "version": "3.12.7"
  }
 },
 "nbformat": 4,
 "nbformat_minor": 5
}
